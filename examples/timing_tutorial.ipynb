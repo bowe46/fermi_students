{
 "cells": [
  {
   "cell_type": "markdown",
   "metadata": {},
   "source": [
    "# After the introductive slides on Xspec... let's try to interactively work with PyXspec now, starting from this template..."
   ]
  },
  {
   "cell_type": "code",
   "execution_count": 1,
   "metadata": {},
   "outputs": [],
   "source": [
    "from astropy.table import  Table\n",
    "def print_model(m):\n",
    "    _comp = []\n",
    "    _name = []\n",
    "    _val = []\n",
    "    _unit = []\n",
    "    _err = []\n",
    "    _froz = []\n",
    "    colnames = ['component', 'par name', 'value', 'units', 'error', 'frozen']\n",
    "    for model_name in m.componentNames:\n",
    "        fit_model = getattr(m, model_name)\n",
    "        for name in fit_model.parameterNames:\n",
    "            p = getattr(fit_model, name)\n",
    "            _comp.append('%s' % (model_name))\n",
    "            _name.append('%s' % (p.name))\n",
    "            _val.append('%5.5f' % p.values[0])\n",
    "            _unit.append('%s' % p.unit)\n",
    "            _err.append('%5.5f' % p.sigma)\n",
    "            _froz.append('%s' % p.frozen)\n",
    "\n",
    "    t=Table([_comp, _name, _val, _unit, _err, _froz],names=colnames)\n",
    "    print(t)"
   ]
  },
  {
   "cell_type": "code",
   "execution_count": 2,
   "metadata": {},
   "outputs": [],
   "source": [
    "import shutil\n",
    "from IPython.display import Image\n",
    "from IPython.display import display \n",
    "def plot_spectrum(what = \"euf del\", units = \"keV\", rebin = 0, command = \"\"):\n",
    "    '''\n",
    "    Possible unit formats are: \"channel\", \"MeV\", \"Hz\", \"angstrom\"\n",
    "    rebin: minSig, maxBins, groupNum, errType \n",
    "    '''\n",
    "#    xsp.Plot.addCommand(\"setplot delete all\")\n",
    "#    xsp.Plot.commands = ()\n",
    "    xsp.Plot.device=\"/png\"\n",
    "    xsp.Plot.xAxis=units\n",
    "    xsp.Plot.background = True\n",
    "    xsp.Plot(what)\n",
    "\n",
    "#    if command:\n",
    "#        xsp.Plot.addCommand(command)\n",
    "    #xspec.Plot.addCommand(\"setplot en\")\n",
    "#    xsp.Plot.xLog = False\n",
    "#    xsp.Plot.yLog = False\n",
    "#    xsp.Plot(\"ufspec\")\n",
    "#    xsp.Plot(\"data\")\n",
    "#    xsp.Plot(\"model\")\n",
    "#    xsp.Plot(\"data chisq\")\n",
    "#    xsp.Plot(\"data\",\"model\",\"resid\")\n",
    "\n",
    "#    xsp.Plot.setRebin(minSig=10, maxBins=30, groupNum=1, errType=\"quad\") #DOES NOT WORK\n",
    "#    if bool(rebin):\n",
    "#        print rebin\n",
    "#        xsp.Plot.addCommand(\"setPlot rebin %s\" % (rebin))\n",
    "#    else:\n",
    "#        print \"no rebin\"\n",
    "#        xsp.Plot.addCommand(\"setplot delete all\")\n",
    "#        xsp.Plot.commands = ()\n",
    "#    print xsp.Plot.commands\n",
    "\n",
    "    xsp.Plot.device=\"/png\"\n",
    "\n",
    "    fn=\"test.png\"\n",
    "\n",
    "\n",
    "    shutil.move(\"pgplot.png_2\", fn)\n",
    "\n",
    "    _=display(Image(filename=fn,format=\"png\"))"
   ]
  },
  {
   "cell_type": "code",
   "execution_count": 3,
   "metadata": {},
   "outputs": [],
   "source": [
    "def get_stats():\n",
    "    chi2_red=xsp.Fit.statistic/xsp.Fit.dof\n",
    "    chi2=xsp.Fit.statistic\n",
    "    ndof=xsp.Fit.dof\n",
    "    \n",
    "    return chi2_red, chi2, ndof"
   ]
  },
  {
   "cell_type": "code",
   "execution_count": 4,
   "metadata": {},
   "outputs": [],
   "source": [
    "from future import *\n",
    "import pprint\n",
    "import xspec as xsp\n",
    "xsp.Xset.allowPrompting \n",
    "xsp.AllModels.clear()\n",
    "xsp.AllData.clear()\n",
    "xsp.AllChains.clear()\n",
    "\n",
    "s = xsp.Spectrum('data/spec.fits')\n",
    "\n",
    "s.response = 'data/rmf.fits'\n",
    "s.response.arf = 'data/arf.fits'\n",
    "\n",
    "s.ignore('**-15')\n",
    "s.ignore('300-**')\n",
    "xsp.AllData.ignore('bad')\n",
    "\n",
    "model_name = 'wabs*po'\n",
    "\n",
    "m = xsp.Model(model_name)"
   ]
  },
  {
   "cell_type": "code",
   "execution_count": 5,
   "metadata": {},
   "outputs": [
    {
     "name": "stdout",
     "output_type": "stream",
     "text": [
      "component par name  value  units  error  frozen\n",
      "--------- -------- ------- ----- ------- ------\n",
      "     wabs       nH 1.00000 10^22 0.00000  False\n",
      " powerlaw PhoIndex 1.00000       0.00000  False\n",
      " powerlaw     norm 1.00000       0.00000  False\n"
     ]
    }
   ],
   "source": [
    "print_model(m)"
   ]
  },
  {
   "cell_type": "code",
   "execution_count": 6,
   "metadata": {},
   "outputs": [],
   "source": [
    "xsp.Fit.query = 'yes'\n",
    "xsp.Fit.perform()"
   ]
  },
  {
   "cell_type": "code",
   "execution_count": 7,
   "metadata": {},
   "outputs": [
    {
     "name": "stdout",
     "output_type": "stream",
     "text": [
      "component par name  value   units  error   frozen\n",
      "--------- -------- -------- ----- -------- ------\n",
      "     wabs       nH  0.00004 10^22 -1.00000  False\n",
      " powerlaw PhoIndex  3.35376        0.35829  False\n",
      " powerlaw     norm 59.31030       76.31400  False\n"
     ]
    }
   ],
   "source": [
    "print_model(m)"
   ]
  },
  {
   "cell_type": "code",
   "execution_count": 8,
   "metadata": {},
   "outputs": [
    {
     "name": "stdout",
     "output_type": "stream",
     "text": [
      "('chi_red', 1.0906180778878924)\n",
      "('chi', 47.98719542706727)\n",
      "('ndof', 44)\n"
     ]
    }
   ],
   "source": [
    "chi2_red, chi2, ndof =get_stats()\n",
    "print('chi_red',chi2_red)\n",
    "print('chi',chi2)\n",
    "print('ndof',ndof)"
   ]
  },
  {
   "cell_type": "code",
   "execution_count": 9,
   "metadata": {},
   "outputs": [
    {
     "data": {
      "image/png": "[encoded data removed]",
      "text/plain": [
       "<IPython.core.display.Image object>"
      ]
     },
     "metadata": {},
     "output_type": "display_data"
    }
   ],
   "source": [
    "plot_spectrum()"
   ]
  },
  {
   "cell_type": "code",
   "execution_count": 10,
   "metadata": {},
   "outputs": [
    {
     "data": {
      "text/plain": [
       "(2.1416854112702364e-10, 0.0, 0.0, 0.002031811919352866, 0.0, 0.0)"
      ]
     },
     "execution_count": 10,
     "metadata": {},
     "output_type": "execute_result"
    }
   ],
   "source": [
    "xsp.AllModels.calcFlux(\"50. 100.\")\n",
    "s1 = xsp.AllData(1)\n",
    "s1.flux"
   ]
  },
  {
   "cell_type": "code",
   "execution_count": 11,
   "metadata": {},
   "outputs": [
    {
     "data": {
      "text/plain": [
       "(13.544629759416193, 0.0, 0.0, 0.00227910615447737, 0.0, 0.0)"
      ]
     },
     "execution_count": 11,
     "metadata": {},
     "output_type": "execute_result"
    }
   ],
   "source": [
    "# Luminosity(enMin, enMax, redshift)\n",
    "xsp.AllModels.calcLumin(\"50. 100. .05\")\n",
    "s1 = xsp.AllData(1)\n",
    "s1.lumin"
   ]
  },
  {
   "cell_type": "code",
   "execution_count": 12,
   "metadata": {},
   "outputs": [
    {
     "data": {
      "text/plain": [
       "(2.8296480458338955, 3.9644440263977736, 'FFFFFFFFF')"
      ]
     },
     "execution_count": 12,
     "metadata": {},
     "output_type": "execute_result"
    }
   ],
   "source": [
    "#Estimate the 90% confidence range for the 2nd parameter\n",
    "xsp.Fit.error(\"2.706 2\")\n",
    "par2 = xsp.AllModels(1)(2)\n",
    "par2.error"
   ]
  },
  {
   "cell_type": "markdown",
   "metadata": {
    "collapsed": true
   },
   "source": [
    "# Load another spectra (NGC 7582)"
   ]
  },
  {
   "cell_type": "code",
   "execution_count": 13,
   "metadata": {},
   "outputs": [
    {
     "name": "stdout",
     "output_type": "stream",
     "text": [
      "/home/jovyan/examples/data\n"
     ]
    }
   ],
   "source": [
    "cd data"
   ]
  },
  {
   "cell_type": "code",
   "execution_count": 14,
   "metadata": {},
   "outputs": [],
   "source": [
    "xsp.AllModels.clear()\n",
    "xsp.AllData.clear()\n",
    "xsp.AllChains.clear()\n",
    "\n",
    "s = xsp.Spectrum('nu_ngc7582_sr-30.pha')\n",
    "#s.response = 'data/rmf.fits'\n",
    "#s.response.arf = 'data/arf.fits'\n",
    "\n",
    "#s.ignore('**-15')\n",
    "#s.ignore('300-**')\n",
    "xsp.AllData.ignore('bad')\n",
    "\n",
    "# Try to fit first with a simple powlaw\n",
    "m = xsp.Model('po')"
   ]
  },
  {
   "cell_type": "code",
   "execution_count": 15,
   "metadata": {},
   "outputs": [
    {
     "name": "stdout",
     "output_type": "stream",
     "text": [
      "component par name  value  units  error  frozen\n",
      "--------- -------- ------- ----- ------- ------\n",
      " powerlaw PhoIndex 1.00000       0.00000  False\n",
      " powerlaw     norm 1.00000       0.00000  False\n"
     ]
    }
   ],
   "source": [
    "print_model(m)"
   ]
  },
  {
   "cell_type": "code",
   "execution_count": 16,
   "metadata": {},
   "outputs": [],
   "source": [
    "xsp.Fit.query = 'yes'\n",
    "xsp.Fit.perform()"
   ]
  },
  {
   "cell_type": "code",
   "execution_count": 17,
   "metadata": {},
   "outputs": [
    {
     "name": "stdout",
     "output_type": "stream",
     "text": [
      "component par name  value  units  error  frozen\n",
      "--------- -------- ------- ----- ------- ------\n",
      " powerlaw PhoIndex 0.85542       0.00903  False\n",
      " powerlaw     norm 0.00065       0.00001  False\n"
     ]
    }
   ],
   "source": [
    "print_model(m)"
   ]
  },
  {
   "cell_type": "code",
   "execution_count": 18,
   "metadata": {},
   "outputs": [
    {
     "name": "stdout",
     "output_type": "stream",
     "text": [
      "('chi_red', 4.582694451648844)\n",
      "('chi', 2273.0164480178264)\n",
      "('ndof', 496)\n"
     ]
    }
   ],
   "source": [
    "chi2_red, chi2, ndof = get_stats()\n",
    "print('chi_red',chi2_red)\n",
    "print('chi',chi2)\n",
    "print('ndof',ndof)"
   ]
  },
  {
   "cell_type": "code",
   "execution_count": 19,
   "metadata": {},
   "outputs": [
    {
     "data": {
      "image/png": "[encoded data removed]",
      "text/plain": [
       "<IPython.core.display.Image object>"
      ]
     },
     "metadata": {},
     "output_type": "display_data"
    }
   ],
   "source": [
    "plot_spectrum(\"euf del chisq\")"
   ]
  },
  {
   "cell_type": "code",
   "execution_count": 20,
   "metadata": {},
   "outputs": [],
   "source": [
    "xsp.AllModels.clear()\n",
    "# Add then the absorption\n",
    "m = xsp.Model('wabs*po')"
   ]
  },
  {
   "cell_type": "markdown",
   "metadata": {},
   "source": [
    " List of Xspec models:\n",
    " https://heasarc.gsfc.nasa.gov/xanadu/xspec/manual/Models.html"
   ]
  },
  {
   "cell_type": "code",
   "execution_count": 21,
   "metadata": {},
   "outputs": [
    {
     "name": "stdout",
     "output_type": "stream",
     "text": [
      "component par name  value  units  error  frozen\n",
      "--------- -------- ------- ----- ------- ------\n",
      "     wabs       nH 1.00000 10^22 0.00000  False\n",
      " powerlaw PhoIndex 1.00000       0.00000  False\n",
      " powerlaw     norm 1.00000       0.00000  False\n"
     ]
    }
   ],
   "source": [
    "print_model(m)"
   ]
  },
  {
   "cell_type": "code",
   "execution_count": 22,
   "metadata": {},
   "outputs": [
    {
     "data": {
      "text/plain": [
       "['wabs', 'powerlaw']"
      ]
     },
     "execution_count": 22,
     "metadata": {},
     "output_type": "execute_result"
    }
   ],
   "source": [
    "m.componentNames"
   ]
  },
  {
   "cell_type": "code",
   "execution_count": 23,
   "metadata": {},
   "outputs": [],
   "source": [
    "# Component objects are accessible-by-name as Model object attributes:\n",
    "comp1 = m.wabs\n",
    "comp2 = m.powerlaw"
   ]
  },
  {
   "cell_type": "code",
   "execution_count": 24,
   "metadata": {},
   "outputs": [
    {
     "data": {
      "text/plain": [
       "['nH']"
      ]
     },
     "execution_count": 24,
     "metadata": {},
     "output_type": "execute_result"
    }
   ],
   "source": [
    "comp1.parameterNames"
   ]
  },
  {
   "cell_type": "code",
   "execution_count": 25,
   "metadata": {},
   "outputs": [
    {
     "data": {
      "text/plain": [
       "['PhoIndex', 'norm']"
      ]
     },
     "execution_count": 25,
     "metadata": {},
     "output_type": "execute_result"
    }
   ],
   "source": [
    "comp2.parameterNames"
   ]
  },
  {
   "cell_type": "code",
   "execution_count": 26,
   "metadata": {},
   "outputs": [],
   "source": [
    "# Parameter objects are accessible-by-name as Component object attributes:\n",
    "par3 = comp2.norm"
   ]
  },
  {
   "cell_type": "code",
   "execution_count": 27,
   "metadata": {},
   "outputs": [
    {
     "data": {
      "text/plain": [
       "[1.0, 0.01, 0.0, 0.0, 1e+20, 1e+24]"
      ]
     },
     "execution_count": 27,
     "metadata": {},
     "output_type": "execute_result"
    }
   ],
   "source": [
    "# value, fit delta, min, bot, top, max\n",
    "par3.values"
   ]
  },
  {
   "cell_type": "code",
   "execution_count": 28,
   "metadata": {},
   "outputs": [
    {
     "data": {
      "text/plain": [
       "'\\n# Can also get a Parameter object directly from a Model, without going\\n# through a Component.  Just pass the Model the Parameter index number:\\npar5 = m(3)\\n\\n# Examples of numerical operations allowed with Parameter objects:\\npar3 += 0.75\\npar3 *= 2.0\\ny1 = m1.phabs.nH*100.0\\ny2 = par4 + par5\\n'"
      ]
     },
     "execution_count": 28,
     "metadata": {},
     "output_type": "execute_result"
    }
   ],
   "source": [
    "# ...and we can modify their values:\n",
    "par3.values = 0.003\n",
    "m.wabs.nH = 20\n",
    "comp2.PhoIndex = 1.5\n",
    "'''\n",
    "# Can also get a Parameter object directly from a Model, without going\n",
    "# through a Component.  Just pass the Model the Parameter index number:\n",
    "par5 = m(3)\n",
    "\n",
    "# Examples of numerical operations allowed with Parameter objects:\n",
    "par3 += 0.75\n",
    "par3 *= 2.0\n",
    "y1 = m1.phabs.nH*100.0\n",
    "y2 = par4 + par5\n",
    "'''"
   ]
  },
  {
   "cell_type": "code",
   "execution_count": 29,
   "metadata": {},
   "outputs": [
    {
     "name": "stdout",
     "output_type": "stream",
     "text": [
      "component par name  value   units  error  frozen\n",
      "--------- -------- -------- ----- ------- ------\n",
      "     wabs       nH 20.00000 10^22 0.00000  False\n",
      " powerlaw PhoIndex  1.50000       0.00000  False\n",
      " powerlaw     norm  0.00300       0.00000  False\n"
     ]
    }
   ],
   "source": [
    "print_model(m)"
   ]
  },
  {
   "cell_type": "code",
   "execution_count": 30,
   "metadata": {},
   "outputs": [
    {
     "data": {
      "image/png": "[encoded data removed]",
      "text/plain": [
       "<IPython.core.display.Image object>"
      ]
     },
     "metadata": {},
     "output_type": "display_data"
    }
   ],
   "source": [
    "plot_spectrum()"
   ]
  },
  {
   "cell_type": "code",
   "execution_count": 31,
   "metadata": {},
   "outputs": [
    {
     "name": "stdout",
     "output_type": "stream",
     "text": [
      "('chi_red', 1.3621702702889635)\n",
      "('chi', 674.274283793037)\n",
      "('ndof', 495)\n"
     ]
    }
   ],
   "source": [
    "xsp.Fit.query = 'yes'\n",
    "xsp.Fit.perform()\n",
    "\n",
    "chi2_red, chi2, ndof = get_stats()\n",
    "print('chi_red',chi2_red)\n",
    "print('chi',chi2)\n",
    "print('ndof',ndof)"
   ]
  },
  {
   "cell_type": "code",
   "execution_count": 32,
   "metadata": {},
   "outputs": [
    {
     "name": "stdout",
     "output_type": "stream",
     "text": [
      "component par name  value   units  error  frozen\n",
      "--------- -------- -------- ----- ------- ------\n",
      "     wabs       nH 21.08956 10^22 0.74573  False\n",
      " powerlaw PhoIndex  1.37045       0.01882  False\n",
      " powerlaw     norm  0.00323       0.00017  False\n"
     ]
    }
   ],
   "source": [
    "print_model(m)"
   ]
  },
  {
   "cell_type": "code",
   "execution_count": 33,
   "metadata": {},
   "outputs": [
    {
     "data": {
      "image/png": "[encoded data removed]",
      "text/plain": [
       "<IPython.core.display.Image object>"
      ]
     },
     "metadata": {},
     "output_type": "display_data"
    }
   ],
   "source": [
    "plot_spectrum()"
   ]
  },
  {
   "cell_type": "code",
   "execution_count": 34,
   "metadata": {},
   "outputs": [],
   "source": [
    "xsp.AllModels.clear()\n",
    "# Use a more appropriate model\n",
    "m = xsp.Model('zphabs*(pexrav)')"
   ]
  },
  {
   "cell_type": "code",
   "execution_count": 35,
   "metadata": {},
   "outputs": [
    {
     "name": "stdout",
     "output_type": "stream",
     "text": [
      "component par name   value   units  error  frozen\n",
      "--------- -------- --------- ----- ------- ------\n",
      "   zphabs       nH   1.00000 10^22 0.00000  False\n",
      "   zphabs Redshift   0.00000       0.00000   True\n",
      "   pexrav PhoIndex   2.00000       0.00000  False\n",
      "   pexrav    foldE 100.00000   keV 0.00000  False\n",
      "   pexrav rel_refl   0.00000       0.00000  False\n",
      "   pexrav Redshift   0.00000       0.00000   True\n",
      "   pexrav    abund   1.00000       0.00000   True\n",
      "   pexrav Fe_abund   1.00000       0.00000   True\n",
      "   pexrav  cosIncl   0.45000       0.00000   True\n",
      "   pexrav     norm   1.00000       0.00000  False\n"
     ]
    }
   ],
   "source": [
    "print_model(m)"
   ]
  },
  {
   "cell_type": "code",
   "execution_count": 36,
   "metadata": {},
   "outputs": [
    {
     "data": {
      "image/png": "[encoded data removed]",
      "text/plain": [
       "<IPython.core.display.Image object>"
      ]
     },
     "metadata": {},
     "output_type": "display_data"
    }
   ],
   "source": [
    "plot_spectrum()"
   ]
  },
  {
   "cell_type": "code",
   "execution_count": 37,
   "metadata": {},
   "outputs": [],
   "source": [
    "xsp.Fit.renorm()"
   ]
  },
  {
   "cell_type": "code",
   "execution_count": 38,
   "metadata": {},
   "outputs": [
    {
     "data": {
      "image/png": "[encoded data removed]",
      "text/plain": [
       "<IPython.core.display.Image object>"
      ]
     },
     "metadata": {},
     "output_type": "display_data"
    }
   ],
   "source": [
    "plot_spectrum()"
   ]
  },
  {
   "cell_type": "code",
   "execution_count": 39,
   "metadata": {},
   "outputs": [
    {
     "name": "stdout",
     "output_type": "stream",
     "text": [
      "component par name   value   units  error  frozen\n",
      "--------- -------- --------- ----- ------- ------\n",
      "   zphabs       nH   1.00000 10^22 0.00000  False\n",
      "   zphabs Redshift   0.00000       0.00000   True\n",
      "   pexrav PhoIndex   2.00000       0.00000  False\n",
      "   pexrav    foldE 100.00000   keV 0.00000  False\n",
      "   pexrav rel_refl   0.00000       0.00000  False\n",
      "   pexrav Redshift   0.00000       0.00000   True\n",
      "   pexrav    abund   1.00000       0.00000   True\n",
      "   pexrav Fe_abund   1.00000       0.00000   True\n",
      "   pexrav  cosIncl   0.45000       0.00000   True\n",
      "   pexrav     norm   0.00483       0.00000  False\n"
     ]
    }
   ],
   "source": [
    "print_model(m)"
   ]
  },
  {
   "cell_type": "code",
   "execution_count": 40,
   "metadata": {},
   "outputs": [
    {
     "name": "stdout",
     "output_type": "stream",
     "text": [
      "('chi_red', 1.0648930488681256)\n",
      "('chi', 524.9922730919859)\n",
      "('ndof', 493)\n"
     ]
    }
   ],
   "source": [
    "xsp.Fit.query = 'yes'\n",
    "xsp.Fit.perform()\n",
    "\n",
    "chi2_red, chi2, ndof = get_stats()\n",
    "print('chi_red',chi2_red)\n",
    "print('chi',chi2)\n",
    "print('ndof',ndof)"
   ]
  },
  {
   "cell_type": "code",
   "execution_count": 41,
   "metadata": {},
   "outputs": [
    {
     "name": "stdout",
     "output_type": "stream",
     "text": [
      "component par name   value   units  error   frozen\n",
      "--------- -------- --------- ----- -------- ------\n",
      "   zphabs       nH  21.93830 10^22  1.04207  False\n",
      "   zphabs Redshift   0.00000        0.00000   True\n",
      "   pexrav PhoIndex   1.62225        0.08206  False\n",
      "   pexrav    foldE 126.12134   keV 38.95129  False\n",
      "   pexrav rel_refl   1.56206        0.29531  False\n",
      "   pexrav Redshift   0.00000        0.00000   True\n",
      "   pexrav    abund   1.00000        0.00000   True\n",
      "   pexrav Fe_abund   1.00000        0.00000   True\n",
      "   pexrav  cosIncl   0.45000        0.00000   True\n",
      "   pexrav     norm   0.00509        0.00077  False\n"
     ]
    }
   ],
   "source": [
    "print_model(m)"
   ]
  },
  {
   "cell_type": "code",
   "execution_count": 42,
   "metadata": {},
   "outputs": [
    {
     "data": {
      "image/png": "[encoded data removed]",
      "text/plain": [
       "<IPython.core.display.Image object>"
      ]
     },
     "metadata": {},
     "output_type": "display_data"
    }
   ],
   "source": [
    "plot_spectrum()"
   ]
  },
  {
   "cell_type": "code",
   "execution_count": 43,
   "metadata": {},
   "outputs": [
    {
     "data": {
      "image/png": "[encoded data removed]",
      "text/plain": [
       "<IPython.core.display.Image object>"
      ]
     },
     "metadata": {},
     "output_type": "display_data"
    }
   ],
   "source": [
    "plot_spectrum(\"euf del chisq\")"
   ]
  },
  {
   "cell_type": "code",
   "execution_count": 44,
   "metadata": {},
   "outputs": [],
   "source": [
    "# Finally use an appropriately more complex model\n",
    "# m3 = xsp.Model('zphabs*(pexrav+zgauss)')"
   ]
  },
  {
   "cell_type": "markdown",
   "metadata": {},
   "source": [
    "# Load another spectra (NGC 5548)"
   ]
  },
  {
   "cell_type": "code",
   "execution_count": 46,
   "metadata": {},
   "outputs": [],
   "source": [
    "xsp.AllModels.clear()\n",
    "xsp.AllData.clear()\n",
    "xsp.AllChains.clear()\n",
    "\n",
    "s = xsp.Spectrum(\"nu_ngc5548_obs1_sr-30.pha\")"
   ]
  },
  {
   "cell_type": "code",
   "execution_count": null,
   "metadata": {},
   "outputs": [],
   "source": []
  },
  {
   "cell_type": "code",
   "execution_count": null,
   "metadata": {},
   "outputs": [],
   "source": []
  }
 ],
 "metadata": {
  "kernelspec": {
   "display_name": "Python 2",
   "language": "python",
   "name": "python2"
  },
  "language_info": {
   "codemirror_mode": {
    "name": "ipython",
    "version": 2
   },
   "file_extension": ".py",
   "mimetype": "text/x-python",
   "name": "python",
   "nbconvert_exporter": "python",
   "pygments_lexer": "ipython2",
   "version": "2.7.15"
  }
 },
 "nbformat": 4,
 "nbformat_minor": 4
}
